{
 "cells": [
  {
   "cell_type": "markdown",
   "id": "d8634416",
   "metadata": {},
   "source": [
    "## NYC Leading causes of Death data analysis\n",
    "### Apurva Padwal(apadwal2@illinois.edu)\n",
    "                        "
   ]
  },
  {
   "cell_type": "code",
   "execution_count": 1,
   "id": "68b68e58",
   "metadata": {},
   "outputs": [],
   "source": [
    "import numpy as np\n",
    "import pandas as pd\n",
    "import matplotlib.pyplot as plt\n",
    "\n",
    "import re"
   ]
  },
  {
   "cell_type": "code",
   "execution_count": 2,
   "id": "2e743e08",
   "metadata": {},
   "outputs": [],
   "source": [
    "LCD_in_NYC = pd.read_csv('https://data.cityofnewyork.us/api/views/jb7j-dtam/rows.csv?accessType=DOWNLOAD',\n",
    "                      na_values = {\"Deaths\": '.', \"Death Rate\": '.', \"Age Adjusted Death Rate\": '.'}).dropna()"
   ]
  },
  {
   "cell_type": "markdown",
   "id": "948d3133",
   "metadata": {},
   "source": [
    "Here, I decided to clean the data &  handle the null values right from the start, as a Team, we also decided to handle certain data value characters present in some columns to be safe in case of any errors."
   ]
  },
  {
   "cell_type": "markdown",
   "id": "f3d51dae",
   "metadata": {},
   "source": [
    "### Exploring the Dataset & performing Exploratory data analysis"
   ]
  },
  {
   "cell_type": "code",
   "execution_count": 3,
   "id": "95ce8b17",
   "metadata": {},
   "outputs": [
    {
     "data": {
      "text/plain": [
       "(1196, 7)"
      ]
     },
     "execution_count": 3,
     "metadata": {},
     "output_type": "execute_result"
    }
   ],
   "source": [
    "#Understanding the dimentionality of our Dataset\n",
    "LCD_in_NYC.shape"
   ]
  },
  {
   "cell_type": "code",
   "execution_count": 4,
   "id": "69d25abb",
   "metadata": {},
   "outputs": [
    {
     "data": {
      "text/html": [
       "<div>\n",
       "<style scoped>\n",
       "    .dataframe tbody tr th:only-of-type {\n",
       "        vertical-align: middle;\n",
       "    }\n",
       "\n",
       "    .dataframe tbody tr th {\n",
       "        vertical-align: top;\n",
       "    }\n",
       "\n",
       "    .dataframe thead th {\n",
       "        text-align: right;\n",
       "    }\n",
       "</style>\n",
       "<table border=\"1\" class=\"dataframe\">\n",
       "  <thead>\n",
       "    <tr style=\"text-align: right;\">\n",
       "      <th></th>\n",
       "      <th>Year</th>\n",
       "      <th>Leading Cause</th>\n",
       "      <th>Sex</th>\n",
       "      <th>Race Ethnicity</th>\n",
       "      <th>Deaths</th>\n",
       "      <th>Death Rate</th>\n",
       "      <th>Age Adjusted Death Rate</th>\n",
       "    </tr>\n",
       "  </thead>\n",
       "  <tbody>\n",
       "    <tr>\n",
       "      <th>0</th>\n",
       "      <td>2011</td>\n",
       "      <td>Chronic Lower Respiratory Diseases (J40-J47)</td>\n",
       "      <td>M</td>\n",
       "      <td>White Non-Hispanic</td>\n",
       "      <td>444.0</td>\n",
       "      <td>33.3</td>\n",
       "      <td>27.8</td>\n",
       "    </tr>\n",
       "    <tr>\n",
       "      <th>1</th>\n",
       "      <td>2008</td>\n",
       "      <td>Malignant Neoplasms (Cancer: C00-C97)</td>\n",
       "      <td>M</td>\n",
       "      <td>White Non-Hispanic</td>\n",
       "      <td>3361.0</td>\n",
       "      <td>250.4</td>\n",
       "      <td>214.3</td>\n",
       "    </tr>\n",
       "    <tr>\n",
       "      <th>2</th>\n",
       "      <td>2010</td>\n",
       "      <td>Chronic Liver Disease and Cirrhosis (K70, K73)</td>\n",
       "      <td>M</td>\n",
       "      <td>Hispanic</td>\n",
       "      <td>150.0</td>\n",
       "      <td>13.1</td>\n",
       "      <td>17.6</td>\n",
       "    </tr>\n",
       "    <tr>\n",
       "      <th>3</th>\n",
       "      <td>2014</td>\n",
       "      <td>Malignant Neoplasms (Cancer: C00-C97)</td>\n",
       "      <td>M</td>\n",
       "      <td>Hispanic</td>\n",
       "      <td>1146.0</td>\n",
       "      <td>96.0</td>\n",
       "      <td>143.5</td>\n",
       "    </tr>\n",
       "    <tr>\n",
       "      <th>5</th>\n",
       "      <td>2014</td>\n",
       "      <td>Influenza (Flu) and Pneumonia (J09-J18)</td>\n",
       "      <td>F</td>\n",
       "      <td>Asian and Pacific Islander</td>\n",
       "      <td>80.0</td>\n",
       "      <td>12.8</td>\n",
       "      <td>14.1</td>\n",
       "    </tr>\n",
       "    <tr>\n",
       "      <th>6</th>\n",
       "      <td>2014</td>\n",
       "      <td>Accidents Except Drug Posioning (V01-X39, X43,...</td>\n",
       "      <td>F</td>\n",
       "      <td>Asian and Pacific Islander</td>\n",
       "      <td>42.0</td>\n",
       "      <td>6.7</td>\n",
       "      <td>6.9</td>\n",
       "    </tr>\n",
       "    <tr>\n",
       "      <th>7</th>\n",
       "      <td>2013</td>\n",
       "      <td>Accidents Except Drug Posioning (V01-X39, X43,...</td>\n",
       "      <td>M</td>\n",
       "      <td>Black Non-Hispanic</td>\n",
       "      <td>159.0</td>\n",
       "      <td>18.5</td>\n",
       "      <td>19.1</td>\n",
       "    </tr>\n",
       "    <tr>\n",
       "      <th>8</th>\n",
       "      <td>2011</td>\n",
       "      <td>Essential Hypertension and Renal Diseases (I10...</td>\n",
       "      <td>M</td>\n",
       "      <td>White Non-Hispanic</td>\n",
       "      <td>142.0</td>\n",
       "      <td>10.6</td>\n",
       "      <td>8.8</td>\n",
       "    </tr>\n",
       "    <tr>\n",
       "      <th>9</th>\n",
       "      <td>2013</td>\n",
       "      <td>Chronic Liver Disease and Cirrhosis (K70, K73)</td>\n",
       "      <td>M</td>\n",
       "      <td>Hispanic</td>\n",
       "      <td>149.0</td>\n",
       "      <td>12.6</td>\n",
       "      <td>15.7</td>\n",
       "    </tr>\n",
       "    <tr>\n",
       "      <th>11</th>\n",
       "      <td>2009</td>\n",
       "      <td>Cerebrovascular Disease (Stroke: I60-I69)</td>\n",
       "      <td>F</td>\n",
       "      <td>Black Non-Hispanic</td>\n",
       "      <td>245.0</td>\n",
       "      <td>23.4</td>\n",
       "      <td>21.3</td>\n",
       "    </tr>\n",
       "  </tbody>\n",
       "</table>\n",
       "</div>"
      ],
      "text/plain": [
       "    Year                                      Leading Cause Sex  \\\n",
       "0   2011       Chronic Lower Respiratory Diseases (J40-J47)   M   \n",
       "1   2008              Malignant Neoplasms (Cancer: C00-C97)   M   \n",
       "2   2010     Chronic Liver Disease and Cirrhosis (K70, K73)   M   \n",
       "3   2014              Malignant Neoplasms (Cancer: C00-C97)   M   \n",
       "5   2014            Influenza (Flu) and Pneumonia (J09-J18)   F   \n",
       "6   2014  Accidents Except Drug Posioning (V01-X39, X43,...   F   \n",
       "7   2013  Accidents Except Drug Posioning (V01-X39, X43,...   M   \n",
       "8   2011  Essential Hypertension and Renal Diseases (I10...   M   \n",
       "9   2013     Chronic Liver Disease and Cirrhosis (K70, K73)   M   \n",
       "11  2009          Cerebrovascular Disease (Stroke: I60-I69)   F   \n",
       "\n",
       "                Race Ethnicity  Deaths  Death Rate  Age Adjusted Death Rate  \n",
       "0           White Non-Hispanic   444.0        33.3                     27.8  \n",
       "1           White Non-Hispanic  3361.0       250.4                    214.3  \n",
       "2                     Hispanic   150.0        13.1                     17.6  \n",
       "3                     Hispanic  1146.0        96.0                    143.5  \n",
       "5   Asian and Pacific Islander    80.0        12.8                     14.1  \n",
       "6   Asian and Pacific Islander    42.0         6.7                      6.9  \n",
       "7           Black Non-Hispanic   159.0        18.5                     19.1  \n",
       "8           White Non-Hispanic   142.0        10.6                      8.8  \n",
       "9                     Hispanic   149.0        12.6                     15.7  \n",
       "11          Black Non-Hispanic   245.0        23.4                     21.3  "
      ]
     },
     "execution_count": 4,
     "metadata": {},
     "output_type": "execute_result"
    }
   ],
   "source": [
    "#Validating successful data load by loading first 10 values in the dataset\n",
    "LCD_in_NYC.head(10)"
   ]
  },
  {
   "cell_type": "code",
   "execution_count": 5,
   "id": "cc751be7",
   "metadata": {},
   "outputs": [
    {
     "data": {
      "text/html": [
       "<div>\n",
       "<style scoped>\n",
       "    .dataframe tbody tr th:only-of-type {\n",
       "        vertical-align: middle;\n",
       "    }\n",
       "\n",
       "    .dataframe tbody tr th {\n",
       "        vertical-align: top;\n",
       "    }\n",
       "\n",
       "    .dataframe thead th {\n",
       "        text-align: right;\n",
       "    }\n",
       "</style>\n",
       "<table border=\"1\" class=\"dataframe\">\n",
       "  <thead>\n",
       "    <tr style=\"text-align: right;\">\n",
       "      <th></th>\n",
       "      <th>Year</th>\n",
       "      <th>Leading Cause</th>\n",
       "      <th>Sex</th>\n",
       "      <th>Race Ethnicity</th>\n",
       "      <th>Deaths</th>\n",
       "      <th>Death Rate</th>\n",
       "      <th>Age Adjusted Death Rate</th>\n",
       "    </tr>\n",
       "  </thead>\n",
       "  <tbody>\n",
       "    <tr>\n",
       "      <th>1771</th>\n",
       "      <td>2017</td>\n",
       "      <td>Malignant Neoplasms (Cancer: C00-C97)</td>\n",
       "      <td>Male</td>\n",
       "      <td>Non-Hispanic White</td>\n",
       "      <td>3017.0</td>\n",
       "      <td>224.615373</td>\n",
       "      <td>176.084244</td>\n",
       "    </tr>\n",
       "    <tr>\n",
       "      <th>1772</th>\n",
       "      <td>2017</td>\n",
       "      <td>Mental and Behavioral Disorders due to Acciden...</td>\n",
       "      <td>Male</td>\n",
       "      <td>Non-Hispanic White</td>\n",
       "      <td>451.0</td>\n",
       "      <td>33.576909</td>\n",
       "      <td>30.976422</td>\n",
       "    </tr>\n",
       "    <tr>\n",
       "      <th>1773</th>\n",
       "      <td>2017</td>\n",
       "      <td>Influenza (Flu) and Pneumonia (J09-J18)</td>\n",
       "      <td>Male</td>\n",
       "      <td>Non-Hispanic White</td>\n",
       "      <td>409.0</td>\n",
       "      <td>30.450012</td>\n",
       "      <td>22.399980</td>\n",
       "    </tr>\n",
       "    <tr>\n",
       "      <th>1774</th>\n",
       "      <td>2017</td>\n",
       "      <td>Chronic Lower Respiratory Diseases (J40-J47)</td>\n",
       "      <td>Male</td>\n",
       "      <td>Non-Hispanic White</td>\n",
       "      <td>374.0</td>\n",
       "      <td>27.844266</td>\n",
       "      <td>20.874867</td>\n",
       "    </tr>\n",
       "    <tr>\n",
       "      <th>1775</th>\n",
       "      <td>2017</td>\n",
       "      <td>Accidents Except Drug Poisoning (V01-X39, X43,...</td>\n",
       "      <td>Male</td>\n",
       "      <td>Non-Hispanic White</td>\n",
       "      <td>290.0</td>\n",
       "      <td>21.590473</td>\n",
       "      <td>18.051476</td>\n",
       "    </tr>\n",
       "    <tr>\n",
       "      <th>1776</th>\n",
       "      <td>2017</td>\n",
       "      <td>Cerebrovascular Disease (Stroke: I60-I69)</td>\n",
       "      <td>Male</td>\n",
       "      <td>Non-Hispanic White</td>\n",
       "      <td>266.0</td>\n",
       "      <td>19.803676</td>\n",
       "      <td>14.881485</td>\n",
       "    </tr>\n",
       "    <tr>\n",
       "      <th>1777</th>\n",
       "      <td>2017</td>\n",
       "      <td>Diabetes Mellitus (E10-E14)</td>\n",
       "      <td>Male</td>\n",
       "      <td>Non-Hispanic White</td>\n",
       "      <td>238.0</td>\n",
       "      <td>17.719078</td>\n",
       "      <td>13.951702</td>\n",
       "    </tr>\n",
       "    <tr>\n",
       "      <th>1778</th>\n",
       "      <td>2017</td>\n",
       "      <td>Intentional Self-Harm (Suicide: U03, X60-X84, ...</td>\n",
       "      <td>Male</td>\n",
       "      <td>Non-Hispanic White</td>\n",
       "      <td>194.0</td>\n",
       "      <td>14.443282</td>\n",
       "      <td>12.952286</td>\n",
       "    </tr>\n",
       "    <tr>\n",
       "      <th>1779</th>\n",
       "      <td>2017</td>\n",
       "      <td>Essential Hypertension and Renal Diseases (I10...</td>\n",
       "      <td>Male</td>\n",
       "      <td>Non-Hispanic White</td>\n",
       "      <td>172.0</td>\n",
       "      <td>12.805384</td>\n",
       "      <td>9.466143</td>\n",
       "    </tr>\n",
       "    <tr>\n",
       "      <th>1780</th>\n",
       "      <td>2017</td>\n",
       "      <td>All Other Causes</td>\n",
       "      <td>Male</td>\n",
       "      <td>Non-Hispanic White</td>\n",
       "      <td>2167.0</td>\n",
       "      <td>161.332951</td>\n",
       "      <td>127.553288</td>\n",
       "    </tr>\n",
       "  </tbody>\n",
       "</table>\n",
       "</div>"
      ],
      "text/plain": [
       "      Year                                      Leading Cause   Sex  \\\n",
       "1771  2017              Malignant Neoplasms (Cancer: C00-C97)  Male   \n",
       "1772  2017  Mental and Behavioral Disorders due to Acciden...  Male   \n",
       "1773  2017            Influenza (Flu) and Pneumonia (J09-J18)  Male   \n",
       "1774  2017       Chronic Lower Respiratory Diseases (J40-J47)  Male   \n",
       "1775  2017  Accidents Except Drug Poisoning (V01-X39, X43,...  Male   \n",
       "1776  2017          Cerebrovascular Disease (Stroke: I60-I69)  Male   \n",
       "1777  2017                        Diabetes Mellitus (E10-E14)  Male   \n",
       "1778  2017  Intentional Self-Harm (Suicide: U03, X60-X84, ...  Male   \n",
       "1779  2017  Essential Hypertension and Renal Diseases (I10...  Male   \n",
       "1780  2017                                   All Other Causes  Male   \n",
       "\n",
       "          Race Ethnicity  Deaths  Death Rate  Age Adjusted Death Rate  \n",
       "1771  Non-Hispanic White  3017.0  224.615373               176.084244  \n",
       "1772  Non-Hispanic White   451.0   33.576909                30.976422  \n",
       "1773  Non-Hispanic White   409.0   30.450012                22.399980  \n",
       "1774  Non-Hispanic White   374.0   27.844266                20.874867  \n",
       "1775  Non-Hispanic White   290.0   21.590473                18.051476  \n",
       "1776  Non-Hispanic White   266.0   19.803676                14.881485  \n",
       "1777  Non-Hispanic White   238.0   17.719078                13.951702  \n",
       "1778  Non-Hispanic White   194.0   14.443282                12.952286  \n",
       "1779  Non-Hispanic White   172.0   12.805384                 9.466143  \n",
       "1780  Non-Hispanic White  2167.0  161.332951               127.553288  "
      ]
     },
     "execution_count": 5,
     "metadata": {},
     "output_type": "execute_result"
    }
   ],
   "source": [
    "#Loading last 10 values of the dataset to validate if the data was loaded completely.\n",
    "LCD_in_NYC.tail(10)"
   ]
  },
  {
   "cell_type": "code",
   "execution_count": 6,
   "id": "212017e4",
   "metadata": {},
   "outputs": [
    {
     "name": "stdout",
     "output_type": "stream",
     "text": [
      "<class 'pandas.core.frame.DataFrame'>\n",
      "Int64Index: 1196 entries, 0 to 1780\n",
      "Data columns (total 7 columns):\n",
      " #   Column                   Non-Null Count  Dtype  \n",
      "---  ------                   --------------  -----  \n",
      " 0   Year                     1196 non-null   int64  \n",
      " 1   Leading Cause            1196 non-null   object \n",
      " 2   Sex                      1196 non-null   object \n",
      " 3   Race Ethnicity           1196 non-null   object \n",
      " 4   Deaths                   1196 non-null   float64\n",
      " 5   Death Rate               1196 non-null   float64\n",
      " 6   Age Adjusted Death Rate  1196 non-null   float64\n",
      "dtypes: float64(3), int64(1), object(3)\n",
      "memory usage: 74.8+ KB\n"
     ]
    }
   ],
   "source": [
    "#Grabbing details regarding the data type, non-null values and memory use.\n",
    "LCD_in_NYC.info()"
   ]
  },
  {
   "cell_type": "code",
   "execution_count": 7,
   "id": "6df3d973",
   "metadata": {},
   "outputs": [
    {
     "data": {
      "text/html": [
       "<div>\n",
       "<style scoped>\n",
       "    .dataframe tbody tr th:only-of-type {\n",
       "        vertical-align: middle;\n",
       "    }\n",
       "\n",
       "    .dataframe tbody tr th {\n",
       "        vertical-align: top;\n",
       "    }\n",
       "\n",
       "    .dataframe thead th {\n",
       "        text-align: right;\n",
       "    }\n",
       "</style>\n",
       "<table border=\"1\" class=\"dataframe\">\n",
       "  <thead>\n",
       "    <tr style=\"text-align: right;\">\n",
       "      <th></th>\n",
       "      <th>Year</th>\n",
       "      <th>Deaths</th>\n",
       "      <th>Death Rate</th>\n",
       "      <th>Age Adjusted Death Rate</th>\n",
       "    </tr>\n",
       "  </thead>\n",
       "  <tbody>\n",
       "    <tr>\n",
       "      <th>count</th>\n",
       "      <td>1196.000000</td>\n",
       "      <td>1196.000000</td>\n",
       "      <td>1196.000000</td>\n",
       "      <td>1196.000000</td>\n",
       "    </tr>\n",
       "    <tr>\n",
       "      <th>mean</th>\n",
       "      <td>2013.198997</td>\n",
       "      <td>574.511706</td>\n",
       "      <td>54.032610</td>\n",
       "      <td>52.798962</td>\n",
       "    </tr>\n",
       "    <tr>\n",
       "      <th>std</th>\n",
       "      <td>3.827082</td>\n",
       "      <td>927.938219</td>\n",
       "      <td>74.384457</td>\n",
       "      <td>68.451400</td>\n",
       "    </tr>\n",
       "    <tr>\n",
       "      <th>min</th>\n",
       "      <td>2007.000000</td>\n",
       "      <td>6.000000</td>\n",
       "      <td>2.400000</td>\n",
       "      <td>2.500000</td>\n",
       "    </tr>\n",
       "    <tr>\n",
       "      <th>25%</th>\n",
       "      <td>2010.000000</td>\n",
       "      <td>102.000000</td>\n",
       "      <td>12.469787</td>\n",
       "      <td>11.990448</td>\n",
       "    </tr>\n",
       "    <tr>\n",
       "      <th>50%</th>\n",
       "      <td>2013.000000</td>\n",
       "      <td>209.000000</td>\n",
       "      <td>19.330318</td>\n",
       "      <td>19.643177</td>\n",
       "    </tr>\n",
       "    <tr>\n",
       "      <th>75%</th>\n",
       "      <td>2017.000000</td>\n",
       "      <td>472.250000</td>\n",
       "      <td>70.275000</td>\n",
       "      <td>79.276000</td>\n",
       "    </tr>\n",
       "    <tr>\n",
       "      <th>max</th>\n",
       "      <td>2019.000000</td>\n",
       "      <td>7050.000000</td>\n",
       "      <td>491.400000</td>\n",
       "      <td>549.659366</td>\n",
       "    </tr>\n",
       "  </tbody>\n",
       "</table>\n",
       "</div>"
      ],
      "text/plain": [
       "              Year       Deaths   Death Rate  Age Adjusted Death Rate\n",
       "count  1196.000000  1196.000000  1196.000000              1196.000000\n",
       "mean   2013.198997   574.511706    54.032610                52.798962\n",
       "std       3.827082   927.938219    74.384457                68.451400\n",
       "min    2007.000000     6.000000     2.400000                 2.500000\n",
       "25%    2010.000000   102.000000    12.469787                11.990448\n",
       "50%    2013.000000   209.000000    19.330318                19.643177\n",
       "75%    2017.000000   472.250000    70.275000                79.276000\n",
       "max    2019.000000  7050.000000   491.400000               549.659366"
      ]
     },
     "execution_count": 7,
     "metadata": {},
     "output_type": "execute_result"
    }
   ],
   "source": [
    "#Grabbing descriptive information about the Dataset\n",
    "LCD_in_NYC.describe()"
   ]
  },
  {
   "cell_type": "code",
   "execution_count": 8,
   "id": "12739313",
   "metadata": {},
   "outputs": [
    {
     "data": {
      "text/plain": [
       "0"
      ]
     },
     "execution_count": 8,
     "metadata": {},
     "output_type": "execute_result"
    }
   ],
   "source": [
    "#Checking if the Dataset has any duplicate rows\n",
    "LCD_in_NYC.duplicated().sum()"
   ]
  },
  {
   "cell_type": "code",
   "execution_count": 9,
   "id": "b989160b",
   "metadata": {},
   "outputs": [
    {
     "data": {
      "text/plain": [
       "Year                       0\n",
       "Leading Cause              0\n",
       "Sex                        0\n",
       "Race Ethnicity             0\n",
       "Deaths                     0\n",
       "Death Rate                 0\n",
       "Age Adjusted Death Rate    0\n",
       "dtype: int64"
      ]
     },
     "execution_count": 9,
     "metadata": {},
     "output_type": "execute_result"
    }
   ],
   "source": [
    "#Checking if the Null values were handled at the start\n",
    "LCD_in_NYC.isnull().sum()"
   ]
  },
  {
   "cell_type": "code",
   "execution_count": 10,
   "id": "47471a6f",
   "metadata": {},
   "outputs": [
    {
     "data": {
      "text/plain": [
       "Year  Leading Cause                                                            Sex     Race Ethnicity              Deaths  Death Rate  Age Adjusted Death Rate\n",
       "2007  Accidents Except Drug Posioning (V01-X39, X43, X45-X59, Y85-Y86)         F       Asian and Pacific Islander  32.0    6.200000    7.600000                   1\n",
       "2016  All Other Causes                                                         Female  Asian and Pacific Islander  385.0   58.903628   60.884572                  1\n",
       "      Accidents Except Drug Poisoning (V01-X39, X43, X45-X59, Y85-Y86)         Male    Non-Hispanic Black          153.0   17.795478   18.379137                  1\n",
       "                                                                                       Hispanic                    177.0   14.654999   16.440433                  1\n",
       "                                                                                       Asian and Pacific Islander  60.0    10.103238   11.082290                  1\n",
       "                                                                                                                                                                 ..\n",
       "2011  Diabetes Mellitus (E10-E14)                                              M       Hispanic                    200.0   17.300000   29.200000                  1\n",
       "                                                                                       Black Non-Hispanic          307.0   36.000000   43.900000                  1\n",
       "                                                                                       Asian and Pacific Islander  60.0    11.400000   14.300000                  1\n",
       "                                                                               F       White Non-Hispanic          253.0   17.900000   11.100000                  1\n",
       "2019  Nephritis, Nephrotic Syndrome and Nephrisis (N00-N07, N17-N19, N25-N27)  Female  Non-Hispanic Black          96.0    9.627689    7.092763                   1\n",
       "Length: 1196, dtype: int64"
      ]
     },
     "execution_count": 10,
     "metadata": {},
     "output_type": "execute_result"
    }
   ],
   "source": [
    "#Dataset's Variable Analysis\n",
    "LCD_in_NYC.value_counts()"
   ]
  },
  {
   "cell_type": "code",
   "execution_count": 11,
   "id": "d5d1e81b",
   "metadata": {},
   "outputs": [
    {
     "data": {
      "text/plain": [
       "Index(['Year', 'Leading Cause', 'Sex', 'Race Ethnicity', 'Deaths',\n",
       "       'Death Rate', 'Age Adjusted Death Rate'],\n",
       "      dtype='object')"
      ]
     },
     "execution_count": 11,
     "metadata": {},
     "output_type": "execute_result"
    }
   ],
   "source": [
    "#Names of all the Columns in the Dataset\n",
    "LCD_in_NYC.columns"
   ]
  },
  {
   "cell_type": "code",
   "execution_count": 12,
   "id": "d0111696",
   "metadata": {},
   "outputs": [
    {
     "data": {
      "text/plain": [
       "array([2011, 2008, 2010, 2014, 2013, 2009, 2012, 2007, 2018, 2019, 2015,\n",
       "       2016, 2017], dtype=int64)"
      ]
     },
     "execution_count": 12,
     "metadata": {},
     "output_type": "execute_result"
    }
   ],
   "source": [
    "#Grabbing Unique values for \"Year\" type\n",
    "LCD_in_NYC['Year'].unique()"
   ]
  },
  {
   "cell_type": "code",
   "execution_count": 13,
   "id": "9e35f95a",
   "metadata": {},
   "outputs": [
    {
     "data": {
      "text/plain": [
       "array(['Chronic Lower Respiratory Diseases (J40-J47)',\n",
       "       'Malignant Neoplasms (Cancer: C00-C97)',\n",
       "       'Chronic Liver Disease and Cirrhosis (K70, K73)',\n",
       "       'Influenza (Flu) and Pneumonia (J09-J18)',\n",
       "       'Accidents Except Drug Posioning (V01-X39, X43, X45-X59, Y85-Y86)',\n",
       "       'Essential Hypertension and Renal Diseases (I10, I12)',\n",
       "       'Cerebrovascular Disease (Stroke: I60-I69)',\n",
       "       'Human Immunodeficiency Virus Disease (HIV: B20-B24)',\n",
       "       'Mental and Behavioral Disorders due to Accidental Poisoning and Other Psychoactive Substance Use (F11-F16, F18-F19, X40-X42, X44)',\n",
       "       'Assault (Homicide: Y87.1, X85-Y09)',\n",
       "       'Diabetes Mellitus (E10-E14)',\n",
       "       'Diseases of Heart (I00-I09, I11, I13, I20-I51)',\n",
       "       'Nephritis, Nephrotic Syndrome and Nephrisis (N00-N07, N17-N19, N25-N27)',\n",
       "       'All Other Causes', 'Septicemia (A40-A41)',\n",
       "       'Intentional Self-Harm (Suicide: X60-X84, Y87.0)',\n",
       "       \"Alzheimer's Disease (G30)\",\n",
       "       'Certain Conditions originating in the Perinatal Period (P00-P96)',\n",
       "       'Congenital Malformations, Deformations, and Chromosomal Abnormalities (Q00-Q99)',\n",
       "       'Viral Hepatitis (B15-B19)',\n",
       "       'Intentional Self-Harm (Suicide: U03, X60-X84, Y87.0)',\n",
       "       'Accidents Except Drug Poisoning (V01-X39, X43, X45-X59, Y85-Y86)',\n",
       "       \"Parkinson's Disease (G20)\",\n",
       "       'Chronic Liver Disease and Cirrhosis (K70, K73-K74)',\n",
       "       'Assault (Homicide: U01-U02, Y87.1, X85-Y09)',\n",
       "       'Mental and Behavioral Disorders due to Use of Alcohol (F10)'],\n",
       "      dtype=object)"
      ]
     },
     "execution_count": 13,
     "metadata": {},
     "output_type": "execute_result"
    }
   ],
   "source": [
    "#Grabbing Unique values for \"Leading Cause\" type\n",
    "LCD_in_NYC['Leading Cause'].unique()"
   ]
  },
  {
   "cell_type": "code",
   "execution_count": 14,
   "id": "cc247925",
   "metadata": {},
   "outputs": [
    {
     "data": {
      "text/plain": [
       "array(['M', 'F', 'Male', 'Female'], dtype=object)"
      ]
     },
     "execution_count": 14,
     "metadata": {},
     "output_type": "execute_result"
    }
   ],
   "source": [
    "#Grabbing Unique values for \"Sex\" type\n",
    "LCD_in_NYC['Sex'].unique()"
   ]
  },
  {
   "cell_type": "code",
   "execution_count": 15,
   "id": "32a04352",
   "metadata": {},
   "outputs": [
    {
     "data": {
      "text/plain": [
       "array(['White Non-Hispanic', 'Hispanic', 'Asian and Pacific Islander',\n",
       "       'Black Non-Hispanic', 'Not Stated/Unknown', 'Non-Hispanic Black',\n",
       "       'Non-Hispanic White'], dtype=object)"
      ]
     },
     "execution_count": 15,
     "metadata": {},
     "output_type": "execute_result"
    }
   ],
   "source": [
    "##Grabbing Unique values for \"Race Ethnicity\" type\n",
    "LCD_in_NYC['Race Ethnicity'].unique()"
   ]
  },
  {
   "cell_type": "markdown",
   "id": "a077b482",
   "metadata": {},
   "source": [
    "#### Cleaning the \"Sex\" Column for unique values Male & Female "
   ]
  },
  {
   "cell_type": "code",
   "execution_count": 16,
   "id": "1e70208c",
   "metadata": {},
   "outputs": [],
   "source": [
    "LCD_in_NYC['Sex'] = LCD_in_NYC['Sex'].replace({'M': 'Male', 'F': 'Female'})"
   ]
  },
  {
   "cell_type": "code",
   "execution_count": 17,
   "id": "5ce0561d",
   "metadata": {},
   "outputs": [
    {
     "data": {
      "text/plain": [
       "array(['Male', 'Female'], dtype=object)"
      ]
     },
     "execution_count": 17,
     "metadata": {},
     "output_type": "execute_result"
    }
   ],
   "source": [
    "#Grabbing Unique values for \"Sex\" type after cleaning\n",
    "LCD_in_NYC['Sex'].unique()"
   ]
  },
  {
   "cell_type": "code",
   "execution_count": 18,
   "id": "3ba396cd",
   "metadata": {},
   "outputs": [
    {
     "data": {
      "image/png": "[encoded data removed]",
      "text/plain": [
       "<Figure size 640x480 with 1 Axes>"
      ]
     },
     "metadata": {},
     "output_type": "display_data"
    }
   ],
   "source": [
    "ValueSex = LCD_in_NYC['Sex'].value_counts()\n",
    "colors = ['#1aa3ff', '#ff4da6']\n",
    "\n",
    "plt.pie(ValueSex,\n",
    "        labeldistance=1.15, \n",
    "        autopct='%1.1f%%',\n",
    "        colors=colors);\n",
    "plt.title('Male and Female Distribution for Death Data')\n",
    "plt.legend(labels=['Male', 'Female'], loc='upper left')\n",
    "plt.show();\n"
   ]
  },
  {
   "cell_type": "code",
   "execution_count": 19,
   "id": "eb4c2e25",
   "metadata": {},
   "outputs": [
    {
     "data": {
      "text/plain": [
       "Text(0.5, 1.0, 'Distribution of Deaths by Race Ethnicity')"
      ]
     },
     "execution_count": 19,
     "metadata": {},
     "output_type": "execute_result"
    },
    {
     "data": {
      "image/png": "[encoded data removed]",
      "text/plain": [
       "<Figure size 640x480 with 1 Axes>"
      ]
     },
     "metadata": {},
     "output_type": "display_data"
    }
   ],
   "source": [
    "LCD_in_NYC['Race Ethnicity'].value_counts().plot(kind='bar', \n",
    "                                      color=['#ecb3ff','#df80ff','#d24dff','#c61aff','#ac00e6','#8600b3','#600080'])\n",
    "plt.title('Distribution of Deaths by Race Ethnicity')"
   ]
  },
  {
   "cell_type": "code",
   "execution_count": 20,
   "id": "24e4c5bd",
   "metadata": {},
   "outputs": [
    {
     "data": {
      "text/plain": [
       "Text(0, 0.5, 'Deaths')"
      ]
     },
     "execution_count": 20,
     "metadata": {},
     "output_type": "execute_result"
    },
    {
     "data": {
      "image/png": "[encoded data removed]",
      "text/plain": [
       "<Figure size 1000x500 with 1 Axes>"
      ]
     },
     "metadata": {},
     "output_type": "display_data"
    }
   ],
   "source": [
    "plt.figure(figsize=(10, 5))\n",
    "plt.scatter(LCD_in_NYC['Year'],LCD_in_NYC['Deaths'], c='#600080')\n",
    "plt.title('Scatter plot of Year vs Deaths')\n",
    "plt.xlabel('Year')\n",
    "plt.ylabel('Deaths')"
   ]
  },
  {
   "cell_type": "code",
   "execution_count": 21,
   "id": "2db61dd5",
   "metadata": {},
   "outputs": [
    {
     "data": {
      "image/png": "[encoded data removed]",
      "text/plain": [
       "<Figure size 1000x500 with 1 Axes>"
      ]
     },
     "metadata": {},
     "output_type": "display_data"
    }
   ],
   "source": [
    "deathrate_by_year = LCD_in_NYC.groupby('Year')['Death Rate'].sum()\n",
    "plt.figure(figsize=(10, 5))\n",
    "\n",
    "plt.plot(deathrate_by_year.index, deathrate_by_year.values, color='#1aa3ff', marker='o', markersize=6, linewidth=2) \n",
    "plt.title('Distribution of Death Rate over the years')  \n",
    "plt.xlabel('Years')  \n",
    "plt.ylabel('Death Rate')  \n",
    "\n",
    "plt.show()"
   ]
  },
  {
   "cell_type": "code",
   "execution_count": 22,
   "id": "a01d7bc6",
   "metadata": {},
   "outputs": [],
   "source": [
    "max_death = LCD_in_NYC.groupby('Race Ethnicity',as_index=False)['Deaths'].max()"
   ]
  },
  {
   "cell_type": "code",
   "execution_count": 23,
   "id": "c189f47e",
   "metadata": {},
   "outputs": [
    {
     "data": {
      "text/html": [
       "<div>\n",
       "<style scoped>\n",
       "    .dataframe tbody tr th:only-of-type {\n",
       "        vertical-align: middle;\n",
       "    }\n",
       "\n",
       "    .dataframe tbody tr th {\n",
       "        vertical-align: top;\n",
       "    }\n",
       "\n",
       "    .dataframe thead th {\n",
       "        text-align: right;\n",
       "    }\n",
       "</style>\n",
       "<table border=\"1\" class=\"dataframe\">\n",
       "  <thead>\n",
       "    <tr style=\"text-align: right;\">\n",
       "      <th></th>\n",
       "      <th>Race Ethnicity</th>\n",
       "      <th>Deaths</th>\n",
       "    </tr>\n",
       "  </thead>\n",
       "  <tbody>\n",
       "    <tr>\n",
       "      <th>0</th>\n",
       "      <td>Asian and Pacific Islander</td>\n",
       "      <td>770.0</td>\n",
       "    </tr>\n",
       "    <tr>\n",
       "      <th>1</th>\n",
       "      <td>Black Non-Hispanic</td>\n",
       "      <td>2725.0</td>\n",
       "    </tr>\n",
       "    <tr>\n",
       "      <th>2</th>\n",
       "      <td>Hispanic</td>\n",
       "      <td>1603.0</td>\n",
       "    </tr>\n",
       "    <tr>\n",
       "      <th>3</th>\n",
       "      <td>Non-Hispanic Black</td>\n",
       "      <td>2552.0</td>\n",
       "    </tr>\n",
       "    <tr>\n",
       "      <th>4</th>\n",
       "      <td>Non-Hispanic White</td>\n",
       "      <td>4494.0</td>\n",
       "    </tr>\n",
       "    <tr>\n",
       "      <th>5</th>\n",
       "      <td>Not Stated/Unknown</td>\n",
       "      <td>259.0</td>\n",
       "    </tr>\n",
       "    <tr>\n",
       "      <th>6</th>\n",
       "      <td>White Non-Hispanic</td>\n",
       "      <td>7050.0</td>\n",
       "    </tr>\n",
       "  </tbody>\n",
       "</table>\n",
       "</div>"
      ],
      "text/plain": [
       "               Race Ethnicity  Deaths\n",
       "0  Asian and Pacific Islander   770.0\n",
       "1          Black Non-Hispanic  2725.0\n",
       "2                    Hispanic  1603.0\n",
       "3          Non-Hispanic Black  2552.0\n",
       "4          Non-Hispanic White  4494.0\n",
       "5          Not Stated/Unknown   259.0\n",
       "6          White Non-Hispanic  7050.0"
      ]
     },
     "execution_count": 23,
     "metadata": {},
     "output_type": "execute_result"
    }
   ],
   "source": [
    "max_death"
   ]
  },
  {
   "cell_type": "code",
   "execution_count": 24,
   "id": "ede89177",
   "metadata": {},
   "outputs": [],
   "source": [
    "max_death = max_death[max_death[\"Race Ethnicity\"] != 'Not Stated/Unknown']"
   ]
  },
  {
   "cell_type": "code",
   "execution_count": 25,
   "id": "41ddc24b",
   "metadata": {},
   "outputs": [
    {
     "data": {
      "text/html": [
       "<div>\n",
       "<style scoped>\n",
       "    .dataframe tbody tr th:only-of-type {\n",
       "        vertical-align: middle;\n",
       "    }\n",
       "\n",
       "    .dataframe tbody tr th {\n",
       "        vertical-align: top;\n",
       "    }\n",
       "\n",
       "    .dataframe thead th {\n",
       "        text-align: right;\n",
       "    }\n",
       "</style>\n",
       "<table border=\"1\" class=\"dataframe\">\n",
       "  <thead>\n",
       "    <tr style=\"text-align: right;\">\n",
       "      <th></th>\n",
       "      <th>Race Ethnicity</th>\n",
       "      <th>Deaths</th>\n",
       "    </tr>\n",
       "  </thead>\n",
       "  <tbody>\n",
       "    <tr>\n",
       "      <th>0</th>\n",
       "      <td>Asian and Pacific Islander</td>\n",
       "      <td>770.0</td>\n",
       "    </tr>\n",
       "    <tr>\n",
       "      <th>1</th>\n",
       "      <td>Black Non-Hispanic</td>\n",
       "      <td>2725.0</td>\n",
       "    </tr>\n",
       "    <tr>\n",
       "      <th>2</th>\n",
       "      <td>Hispanic</td>\n",
       "      <td>1603.0</td>\n",
       "    </tr>\n",
       "    <tr>\n",
       "      <th>3</th>\n",
       "      <td>Non-Hispanic Black</td>\n",
       "      <td>2552.0</td>\n",
       "    </tr>\n",
       "    <tr>\n",
       "      <th>4</th>\n",
       "      <td>Non-Hispanic White</td>\n",
       "      <td>4494.0</td>\n",
       "    </tr>\n",
       "    <tr>\n",
       "      <th>6</th>\n",
       "      <td>White Non-Hispanic</td>\n",
       "      <td>7050.0</td>\n",
       "    </tr>\n",
       "  </tbody>\n",
       "</table>\n",
       "</div>"
      ],
      "text/plain": [
       "               Race Ethnicity  Deaths\n",
       "0  Asian and Pacific Islander   770.0\n",
       "1          Black Non-Hispanic  2725.0\n",
       "2                    Hispanic  1603.0\n",
       "3          Non-Hispanic Black  2552.0\n",
       "4          Non-Hispanic White  4494.0\n",
       "6          White Non-Hispanic  7050.0"
      ]
     },
     "execution_count": 25,
     "metadata": {},
     "output_type": "execute_result"
    }
   ],
   "source": [
    "max_death"
   ]
  },
  {
   "cell_type": "code",
   "execution_count": 26,
   "id": "91c3a374",
   "metadata": {},
   "outputs": [],
   "source": [
    "min_death = LCD_in_NYC.groupby('Race Ethnicity',as_index=False)['Deaths'].min()"
   ]
  },
  {
   "cell_type": "code",
   "execution_count": 27,
   "id": "889da534",
   "metadata": {},
   "outputs": [
    {
     "data": {
      "text/html": [
       "<div>\n",
       "<style scoped>\n",
       "    .dataframe tbody tr th:only-of-type {\n",
       "        vertical-align: middle;\n",
       "    }\n",
       "\n",
       "    .dataframe tbody tr th {\n",
       "        vertical-align: top;\n",
       "    }\n",
       "\n",
       "    .dataframe thead th {\n",
       "        text-align: right;\n",
       "    }\n",
       "</style>\n",
       "<table border=\"1\" class=\"dataframe\">\n",
       "  <thead>\n",
       "    <tr style=\"text-align: right;\">\n",
       "      <th></th>\n",
       "      <th>Race Ethnicity</th>\n",
       "      <th>Deaths</th>\n",
       "    </tr>\n",
       "  </thead>\n",
       "  <tbody>\n",
       "    <tr>\n",
       "      <th>0</th>\n",
       "      <td>Asian and Pacific Islander</td>\n",
       "      <td>13.0</td>\n",
       "    </tr>\n",
       "    <tr>\n",
       "      <th>1</th>\n",
       "      <td>Black Non-Hispanic</td>\n",
       "      <td>70.0</td>\n",
       "    </tr>\n",
       "    <tr>\n",
       "      <th>2</th>\n",
       "      <td>Hispanic</td>\n",
       "      <td>49.0</td>\n",
       "    </tr>\n",
       "    <tr>\n",
       "      <th>3</th>\n",
       "      <td>Non-Hispanic Black</td>\n",
       "      <td>77.0</td>\n",
       "    </tr>\n",
       "    <tr>\n",
       "      <th>4</th>\n",
       "      <td>Non-Hispanic White</td>\n",
       "      <td>119.0</td>\n",
       "    </tr>\n",
       "    <tr>\n",
       "      <th>5</th>\n",
       "      <td>Not Stated/Unknown</td>\n",
       "      <td>6.0</td>\n",
       "    </tr>\n",
       "    <tr>\n",
       "      <th>6</th>\n",
       "      <td>White Non-Hispanic</td>\n",
       "      <td>75.0</td>\n",
       "    </tr>\n",
       "  </tbody>\n",
       "</table>\n",
       "</div>"
      ],
      "text/plain": [
       "               Race Ethnicity  Deaths\n",
       "0  Asian and Pacific Islander    13.0\n",
       "1          Black Non-Hispanic    70.0\n",
       "2                    Hispanic    49.0\n",
       "3          Non-Hispanic Black    77.0\n",
       "4          Non-Hispanic White   119.0\n",
       "5          Not Stated/Unknown     6.0\n",
       "6          White Non-Hispanic    75.0"
      ]
     },
     "execution_count": 27,
     "metadata": {},
     "output_type": "execute_result"
    }
   ],
   "source": [
    "min_death"
   ]
  },
  {
   "cell_type": "code",
   "execution_count": 28,
   "id": "e204c6ab",
   "metadata": {},
   "outputs": [],
   "source": [
    "min_death = min_death[min_death[\"Race Ethnicity\"] != 'Not Stated/Unknown']"
   ]
  },
  {
   "cell_type": "code",
   "execution_count": 29,
   "id": "54527195",
   "metadata": {},
   "outputs": [
    {
     "data": {
      "text/html": [
       "<div>\n",
       "<style scoped>\n",
       "    .dataframe tbody tr th:only-of-type {\n",
       "        vertical-align: middle;\n",
       "    }\n",
       "\n",
       "    .dataframe tbody tr th {\n",
       "        vertical-align: top;\n",
       "    }\n",
       "\n",
       "    .dataframe thead th {\n",
       "        text-align: right;\n",
       "    }\n",
       "</style>\n",
       "<table border=\"1\" class=\"dataframe\">\n",
       "  <thead>\n",
       "    <tr style=\"text-align: right;\">\n",
       "      <th></th>\n",
       "      <th>Race Ethnicity</th>\n",
       "      <th>Deaths</th>\n",
       "    </tr>\n",
       "  </thead>\n",
       "  <tbody>\n",
       "    <tr>\n",
       "      <th>0</th>\n",
       "      <td>Asian and Pacific Islander</td>\n",
       "      <td>13.0</td>\n",
       "    </tr>\n",
       "    <tr>\n",
       "      <th>1</th>\n",
       "      <td>Black Non-Hispanic</td>\n",
       "      <td>70.0</td>\n",
       "    </tr>\n",
       "    <tr>\n",
       "      <th>2</th>\n",
       "      <td>Hispanic</td>\n",
       "      <td>49.0</td>\n",
       "    </tr>\n",
       "    <tr>\n",
       "      <th>3</th>\n",
       "      <td>Non-Hispanic Black</td>\n",
       "      <td>77.0</td>\n",
       "    </tr>\n",
       "    <tr>\n",
       "      <th>4</th>\n",
       "      <td>Non-Hispanic White</td>\n",
       "      <td>119.0</td>\n",
       "    </tr>\n",
       "    <tr>\n",
       "      <th>6</th>\n",
       "      <td>White Non-Hispanic</td>\n",
       "      <td>75.0</td>\n",
       "    </tr>\n",
       "  </tbody>\n",
       "</table>\n",
       "</div>"
      ],
      "text/plain": [
       "               Race Ethnicity  Deaths\n",
       "0  Asian and Pacific Islander    13.0\n",
       "1          Black Non-Hispanic    70.0\n",
       "2                    Hispanic    49.0\n",
       "3          Non-Hispanic Black    77.0\n",
       "4          Non-Hispanic White   119.0\n",
       "6          White Non-Hispanic    75.0"
      ]
     },
     "execution_count": 29,
     "metadata": {},
     "output_type": "execute_result"
    }
   ],
   "source": [
    "min_death"
   ]
  },
  {
   "cell_type": "code",
   "execution_count": 30,
   "id": "406a09be",
   "metadata": {
    "scrolled": false
   },
   "outputs": [
    {
     "data": {
      "image/png": "[encoded data removed]",
      "text/plain": [
       "<Figure size 1000x600 with 1 Axes>"
      ]
     },
     "metadata": {},
     "output_type": "display_data"
    }
   ],
   "source": [
    "fig, ax = plt.subplots(figsize=(10, 6)) \n",
    "\n",
    "ax.plot(max_death['Race Ethnicity'], max_death['Deaths'], color='#33FF33', marker='o')\n",
    "ax.plot(min_death['Race Ethnicity'], min_death['Deaths'], color='#FF3333', marker='o')\n",
    "\n",
    "ax.set_xlabel(\"Race and Ethnicity\", fontsize=12)\n",
    "ax.set_ylabel(\"Minimum & Maximum Number of Deaths\", fontsize=12)\n",
    "ax.set_title('Minimum & Maximum Number of Deaths by Race and Ethnicity', fontsize=14)\n",
    "\n",
    "ax.tick_params(axis='x', rotation=90)\n",
    "\n",
    "plt.show()"
   ]
  },
  {
   "cell_type": "markdown",
   "id": "223d29f5",
   "metadata": {},
   "source": [
    "In this plot, The Line chart for minimum Number of Deaths looks like a straight line, that's because the maximum values overpower the size of graph so much that the minimum values can't be differentiated because of small number difference. This is not helping me visualize the Data effectively & Hence, I plan on visualizing the plot in a different way in next phase."
   ]
  },
  {
   "cell_type": "markdown",
   "id": "ea659c2e",
   "metadata": {},
   "source": [
    "### Simple plot to show the relationship of interest"
   ]
  },
  {
   "cell_type": "code",
   "execution_count": 31,
   "id": "bdba0370",
   "metadata": {},
   "outputs": [],
   "source": [
    "Avg_deathrate = LCD_in_NYC.groupby('Race Ethnicity',as_index=False)['Death Rate'].mean()"
   ]
  },
  {
   "cell_type": "code",
   "execution_count": 32,
   "id": "1b81b10f",
   "metadata": {},
   "outputs": [
    {
     "data": {
      "text/html": [
       "<div>\n",
       "<style scoped>\n",
       "    .dataframe tbody tr th:only-of-type {\n",
       "        vertical-align: middle;\n",
       "    }\n",
       "\n",
       "    .dataframe tbody tr th {\n",
       "        vertical-align: top;\n",
       "    }\n",
       "\n",
       "    .dataframe thead th {\n",
       "        text-align: right;\n",
       "    }\n",
       "</style>\n",
       "<table border=\"1\" class=\"dataframe\">\n",
       "  <thead>\n",
       "    <tr style=\"text-align: right;\">\n",
       "      <th></th>\n",
       "      <th>Race Ethnicity</th>\n",
       "      <th>Death Rate</th>\n",
       "    </tr>\n",
       "  </thead>\n",
       "  <tbody>\n",
       "    <tr>\n",
       "      <th>0</th>\n",
       "      <td>Asian and Pacific Islander</td>\n",
       "      <td>29.074971</td>\n",
       "    </tr>\n",
       "    <tr>\n",
       "      <th>1</th>\n",
       "      <td>Black Non-Hispanic</td>\n",
       "      <td>65.946629</td>\n",
       "    </tr>\n",
       "    <tr>\n",
       "      <th>2</th>\n",
       "      <td>Hispanic</td>\n",
       "      <td>37.224416</td>\n",
       "    </tr>\n",
       "    <tr>\n",
       "      <th>3</th>\n",
       "      <td>Non-Hispanic Black</td>\n",
       "      <td>70.333405</td>\n",
       "    </tr>\n",
       "    <tr>\n",
       "      <th>4</th>\n",
       "      <td>Non-Hispanic White</td>\n",
       "      <td>78.330613</td>\n",
       "    </tr>\n",
       "    <tr>\n",
       "      <th>5</th>\n",
       "      <td>Not Stated/Unknown</td>\n",
       "      <td>54.496766</td>\n",
       "    </tr>\n",
       "    <tr>\n",
       "      <th>6</th>\n",
       "      <td>White Non-Hispanic</td>\n",
       "      <td>84.742614</td>\n",
       "    </tr>\n",
       "  </tbody>\n",
       "</table>\n",
       "</div>"
      ],
      "text/plain": [
       "               Race Ethnicity  Death Rate\n",
       "0  Asian and Pacific Islander   29.074971\n",
       "1          Black Non-Hispanic   65.946629\n",
       "2                    Hispanic   37.224416\n",
       "3          Non-Hispanic Black   70.333405\n",
       "4          Non-Hispanic White   78.330613\n",
       "5          Not Stated/Unknown   54.496766\n",
       "6          White Non-Hispanic   84.742614"
      ]
     },
     "execution_count": 32,
     "metadata": {},
     "output_type": "execute_result"
    }
   ],
   "source": [
    "Avg_deathrate"
   ]
  },
  {
   "cell_type": "code",
   "execution_count": 33,
   "id": "db2ed4d9",
   "metadata": {},
   "outputs": [],
   "source": [
    "Avg_deathrate = Avg_deathrate[Avg_deathrate[\"Race Ethnicity\"] != 'Not Stated/Unknown']"
   ]
  },
  {
   "cell_type": "code",
   "execution_count": 34,
   "id": "c0596d4b",
   "metadata": {},
   "outputs": [
    {
     "data": {
      "text/html": [
       "<div>\n",
       "<style scoped>\n",
       "    .dataframe tbody tr th:only-of-type {\n",
       "        vertical-align: middle;\n",
       "    }\n",
       "\n",
       "    .dataframe tbody tr th {\n",
       "        vertical-align: top;\n",
       "    }\n",
       "\n",
       "    .dataframe thead th {\n",
       "        text-align: right;\n",
       "    }\n",
       "</style>\n",
       "<table border=\"1\" class=\"dataframe\">\n",
       "  <thead>\n",
       "    <tr style=\"text-align: right;\">\n",
       "      <th></th>\n",
       "      <th>Race Ethnicity</th>\n",
       "      <th>Death Rate</th>\n",
       "    </tr>\n",
       "  </thead>\n",
       "  <tbody>\n",
       "    <tr>\n",
       "      <th>0</th>\n",
       "      <td>Asian and Pacific Islander</td>\n",
       "      <td>29.074971</td>\n",
       "    </tr>\n",
       "    <tr>\n",
       "      <th>1</th>\n",
       "      <td>Black Non-Hispanic</td>\n",
       "      <td>65.946629</td>\n",
       "    </tr>\n",
       "    <tr>\n",
       "      <th>2</th>\n",
       "      <td>Hispanic</td>\n",
       "      <td>37.224416</td>\n",
       "    </tr>\n",
       "    <tr>\n",
       "      <th>3</th>\n",
       "      <td>Non-Hispanic Black</td>\n",
       "      <td>70.333405</td>\n",
       "    </tr>\n",
       "    <tr>\n",
       "      <th>4</th>\n",
       "      <td>Non-Hispanic White</td>\n",
       "      <td>78.330613</td>\n",
       "    </tr>\n",
       "    <tr>\n",
       "      <th>6</th>\n",
       "      <td>White Non-Hispanic</td>\n",
       "      <td>84.742614</td>\n",
       "    </tr>\n",
       "  </tbody>\n",
       "</table>\n",
       "</div>"
      ],
      "text/plain": [
       "               Race Ethnicity  Death Rate\n",
       "0  Asian and Pacific Islander   29.074971\n",
       "1          Black Non-Hispanic   65.946629\n",
       "2                    Hispanic   37.224416\n",
       "3          Non-Hispanic Black   70.333405\n",
       "4          Non-Hispanic White   78.330613\n",
       "6          White Non-Hispanic   84.742614"
      ]
     },
     "execution_count": 34,
     "metadata": {},
     "output_type": "execute_result"
    }
   ],
   "source": [
    "Avg_deathrate"
   ]
  },
  {
   "cell_type": "code",
   "execution_count": 35,
   "id": "9b2a54a1",
   "metadata": {},
   "outputs": [
    {
     "data": {
      "image/png": "[encoded data removed]",
      "text/plain": [
       "<Figure size 1000x500 with 1 Axes>"
      ]
     },
     "metadata": {},
     "output_type": "display_data"
    }
   ],
   "source": [
    "fig, ax = plt.subplots(figsize=(10,5))  \n",
    "\n",
    "ax.bar(Avg_deathrate['Race Ethnicity'], Avg_deathrate['Death Rate'], color='#33FF33', width=0.2)  \n",
    "ax.plot(Avg_deathrate['Race Ethnicity'], Avg_deathrate['Death Rate'], marker='o')\n",
    "\n",
    "ax.set_xlabel(\"Race and Ethnicity\", fontsize=12)  \n",
    "ax.set_ylabel(\"Average Death Rate\", fontsize=12)  \n",
    "ax.set_title('Average Death Rate by Race and Ethnicity', fontsize=14) \n",
    "\n",
    "ax.tick_params(axis='x', rotation=90)\n",
    "\n",
    "plt.show()"
   ]
  },
  {
   "cell_type": "markdown",
   "id": "cbd72ffb",
   "metadata": {},
   "source": [
    "---\n",
    "#### Explaination of the above plot:\n",
    "\n",
    "With the above Visualization, I'm trying to show Average Death rate for each Race/ Ethnicity. I plotted it with a bar graph & also Connected it with Line chart to visually see the ups & Downs in the Death rate by each Race Ethnicity. Based on the plot, it's clearly visible that Average Death rate is the maximum for White Non-Hispanic people whereas it's the least for Asian & Pacific Islanders. I have Added Title, X & Y axis labels to make the visualizations easy for the viewer to understand. This visualization can help us understand if Race or Ethnicity plays any role in affecting Death Rate. It would be interesting to explore effect of Race & Ethnicity towards deaths so that further choices can be made to avoid the same.\n",
    "I have also Plotted Minimum & Maximum number of Deaths for each Race Ethnicity before this plot, It can also be utilized further to understand Relationship between Deaths & race or Ethnicity.\n",
    "\n",
    "---"
   ]
  },
  {
   "cell_type": "markdown",
   "id": "bc419d36",
   "metadata": {},
   "source": [
    "#### DataSet Exploration:\n",
    "\n",
    "To perform the EDA, after loading the Dataset, I checked the dimensions of the dataset to understand the size of data we're working with.Then I tried to grab First & last 10 values from the Dataset using Head() & Tail() function. That confirmed the data was loaded successfully. After this, I went ahead to grab more details about the Dataset using info() & Descrive() function. Tis gave me information regarding the data type, non-null values and memory use and some more descriptive details about the dataset. I also checked & handled the data with Duplicate rows & Null values.\n",
    "\n",
    "---\n",
    "\n",
    "#### Things that worked:\n",
    "1. I handled the Null values while loading the dataset & verified the same. Later, I did not face any issues whileworking e=with the data because of this. \n",
    "2. After EDA, when I checked Unique values for each column, I realizaed that the \"Sex\" column had different values with same meaning, i.e., M & Male showing same meaning. So I worked on Replacing M with Male & F with Female to avoid unnecessary confusion.\n",
    "\n",
    "---\n",
    "\n",
    "#### Things that did not work:\n",
    "1. After getting Unique values for first 4 columns, I decided not to Grab unique values for rest of the columns as there are numerous Unique values and grabbing that data is not necessary for analysis at this point. \n",
    "2. I also understood that the two columns(Leading Cause & Sex) need some data cleaning. I decided to Replace the Sex type Data from M & F to Male & Female. I asked my team member Pranav to help me with cleaning the \"Leading Cause\" Data type as I was facing difficulty understanding the cleaning process of that column. I could not figure out how I can do this step. I plan on performing this \"Leading Cause\" Data type Data clean in next phase of the Final project after learning the process.\n",
    "---"
   ]
  },
  {
   "cell_type": "markdown",
   "id": "dfa04c16",
   "metadata": {},
   "source": [
    "#### Summarization of Dataset characteristics in words:\n",
    "\n",
    "Link to the dataset: https://catalog.data.gov/dataset/new-york-city-leading-causes-of-death\n",
    "\n",
    "This data provides the number of deaths, the reason, and how deaths are distributed according on Sex, Race, Ethinicity, and reason From 2007 to 2019 in New York City. The URL contains metadata that provides extra information on the columns in the dataset. The Leading Cause column provides the person's cause of death, which is obtained from the death certificate, which is issued after each death in New York City.\n",
    "I utilized the column functionality to list all of the columns in the data set, which are 'Year', 'Leading Cause', 'Sex', 'Race Ethnicity', 'Deaths', 'Death Rate', and 'Age Adjusted Death Rate'. \n",
    "I also performed Variable analysis on the Data & saw if there are any duplicate rows, Null values & handled if any. The dimentionality showed the total numbber of Rows & columns in the Dataset viz 1196 & 7. The \"Year\" column being Numeric, shows the Year of occurance if the Death. According to the Metadata, this field's data type is Temporal. The Next Column \"Sex\" is a string type value and gives information about whether the person was Male or Female. Now, the column \"Leading cause\" is also a string type value & shows the reason of why the death occured in that specific instance. As per the metadata, it's nominal datatype of unorder string. The next String type data object is \"Race Ethnicity\" containing Information about Race & Ethnicity, Again as per the Metadata it's data type is nominal & it's a unordered string object. Rest of the columns are numeric having information regarding Number of Deaths, Death Rate on the basis of disease. Last column \"Age Adjusted Death Rate\" is also numeric and The formula for calculating it is-> total estimated deaths * 1,000.\n",
    "In these data values, I have adjusted the data column \"Sex\" to make if more effective for use & visualization.\n",
    "\n",
    "---"
   ]
  },
  {
   "cell_type": "markdown",
   "id": "745eb945",
   "metadata": {},
   "source": [
    "#### What is the \"name\" of the dataset?\n",
    "\n",
    "New_York_City_Leading_Causes_of_Death\n",
    "\n",
    "---"
   ]
  },
  {
   "cell_type": "markdown",
   "id": "64c2a840",
   "metadata": {},
   "source": [
    "#### Where did you obtain it?\n",
    "\n",
    "We utilized the resources that were offered in class to search for the dataset, and we found the topic at https://data.gov/, which is the official government website of the United States, and the dataset is under the https://catalog.data.gov/dataset and the precise url for the dataset is mentioned above.\n",
    "\n",
    "---"
   ]
  },
  {
   "cell_type": "markdown",
   "id": "4c8e59e2",
   "metadata": {},
   "source": [
    "#### Where can we obtain it? (i.e., URL)\n",
    "\n",
    "CSV Link: https://data.cityofnewyork.us/api/views/jb7j-dtam/rows.csv?accessType=DOWNLOAD.\n",
    "\n",
    "The link to different file format can be obtained from this url: https://catalog.data.gov/dataset/new-york-city-leading-causes-of-death#sec-dates\n",
    "\n",
    "The said website also offers the data in multiple formats, So it's the user's choice to choose the one that works best for them to visualize the data.\n",
    "\n",
    "---"
   ]
  },
  {
   "cell_type": "markdown",
   "id": "2c1a8e3a",
   "metadata": {},
   "source": [
    "#### What is the license of the dataset? What are we allowed to do with it?  This information is generally found in an \"About\" page or in documentation.  If there is no explicit license, use what you find in the dataset documentation to make your \"best guess\".\n",
    "\n",
    "There was not an explicit reference to the license after reviewing all of the dataset's metadata and information. The \"About\" page wasn't there, neither the documentation included any license information. It is stated on the terms of usage page that this data set is for public use and that it is intended for free distribution. To the best of my knowledge, this dataset has an open license, and the public access indicates that we may use it for our project purposes; nevertheless, we must respect the usage guidelines when doing so. We are also allowed to make copies of it and edit the data as needed.\n",
    "\n",
    "---"
   ]
  },
  {
   "cell_type": "markdown",
   "id": "a7de5205",
   "metadata": {},
   "source": [
    "#### How big is it in file size and in items?  Looking ahead, how does this relate to GitHub's limitsLinks to an external site. on uploading large files?  If you plan on hosting the data yourself and it is larger than GitHub's limits, state your plan for how you will address this issue. \n",
    "\n",
    "We can see from the shape function that the dataset has 1196 rows and 7 columns. The csv file we used is 157Kb in size, with a typical upload limit of 100 MB, and we can utilize git large storage to upload files up to 2GB in size. Our file size is relatively little in comparison to these constraints, thus there will be no problems submitting this file."
   ]
  },
  {
   "cell_type": "code",
   "execution_count": null,
   "id": "fe1e8e72",
   "metadata": {},
   "outputs": [],
   "source": []
  }
 ],
 "metadata": {
  "kernelspec": {
   "display_name": "Python 3 (ipykernel)",
   "language": "python",
   "name": "python3"
  },
  "language_info": {
   "codemirror_mode": {
    "name": "ipython",
    "version": 3
   },
   "file_extension": ".py",
   "mimetype": "text/x-python",
   "name": "python",
   "nbconvert_exporter": "python",
   "pygments_lexer": "ipython3",
   "version": "3.9.13"
  }
 },
 "nbformat": 4,
 "nbformat_minor": 5
}
